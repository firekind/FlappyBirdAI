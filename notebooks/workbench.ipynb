{
  "cells": [
    {
      "cell_type": "code",
      "source": [
        "import os\n",
        "os.chdir('../FlappyBirdAI')"
      ],
      "outputs": [],
      "execution_count": 2,
      "metadata": {
        "collapsed": false,
        "outputHidden": false,
        "inputHidden": false
      }
    },
    {
      "cell_type": "code",
      "source": [
        "from collections import deque\n",
        "\n",
        "import torch\n",
        "import torch.nn as nn\n",
        "import torch.nn.functional as F\n",
        "import torch.backends.cudnn as cudnn\n",
        "from torchvision import transforms\n",
        "\n",
        "import numpy as np\n",
        "\n",
        "from PIL import Image\n",
        "\n",
        "import matplotlib.pyplot as plt\n",
        "\n",
        "from game import GameState\n",
        "from net import Model"
      ],
      "outputs": [
        {
          "output_type": "stream",
          "name": "stdout",
          "text": [
            "pygame 1.9.6\n",
            "Hello from the pygame community. https://www.pygame.org/contribute.html\n"
          ]
        }
      ],
      "execution_count": 3,
      "metadata": {
        "collapsed": false,
        "outputHidden": false,
        "inputHidden": false
      }
    },
    {
      "cell_type": "markdown",
      "source": [
        "## Testing out Image Transforms"
      ],
      "metadata": {}
    },
    {
      "cell_type": "code",
      "source": [
        "# loading image\n",
        "img_raw = Image.open(\"../notebooks/example_frame.png\")\n",
        "img_raw = img_raw.convert('RGB')\n",
        "img = np.array(img_raw)\n",
        "img.shape"
      ],
      "outputs": [
        {
          "output_type": "execute_result",
          "execution_count": 3,
          "data": {
            "text/plain": [
              "(750, 993, 3)"
            ]
          },
          "metadata": {}
        }
      ],
      "execution_count": 3,
      "metadata": {
        "collapsed": false,
        "outputHidden": false,
        "inputHidden": false
      }
    },
    {
      "cell_type": "code",
      "source": [
        "# converts to grayscale, resizes it and converts it into Tensor\n",
        "transform = transforms.Compose([\n",
        "    transforms.ToPILImage(),\n",
        "    transforms.Grayscale(),\n",
        "    transforms.Resize((80, 80)),\n",
        "    transforms.ToTensor()\n",
        "])\n",
        "res = transform(img)\n",
        "s_t = torch.stack([res for _ in range(4)])\n",
        "print(\"image input size in pytorch = (N, Cin, H, W)\")\n",
        "print(f\"res.shape: {res.shape} (Cin, H, W)\\ns_t.shape: {s_t.shape}\")"
      ],
      "outputs": [
        {
          "output_type": "stream",
          "name": "stdout",
          "text": [
            "image input size in pytorch = (N, Cin, H, W)\n",
            "res.shape: torch.Size([1, 80, 80]) (Cin, H, W)\n",
            "s_t.shape: torch.Size([4, 1, 80, 80])\n"
          ]
        }
      ],
      "execution_count": 4,
      "metadata": {
        "collapsed": false,
        "outputHidden": false,
        "inputHidden": false,
        "outputExpanded": false
      }
    },
    {
      "cell_type": "markdown",
      "source": [
        "## Training"
      ],
      "metadata": {}
    },
    {
      "cell_type": "code",
      "source": [
        "# initializing stuff\n",
        "\n",
        "# defining variables\n",
        "NUM_ACTIONS: int = 2\n",
        "MAX_REPLAY: int = 500000\n",
        "D: deque = deque()\n",
        "\n",
        "# setup\n",
        "cudnn.benchmark = True\n",
        "\n",
        "# setting up transform\n",
        "transform = transforms.Compose([\n",
        "    transforms.ToPILImage(),\n",
        "    transforms.Grayscale(),\n",
        "    transforms.Resize((80, 80)),\n",
        "#     transforms.ToTensor()\n",
        "])\n",
        "\n",
        "# creating replay memory\n",
        "D = deque()"
      ],
      "outputs": [],
      "execution_count": 4,
      "metadata": {
        "collapsed": false,
        "outputHidden": false,
        "inputHidden": false
      }
    },
    {
      "cell_type": "code",
      "source": [
        "# establishing connection with emulator\n",
        "game_state = GameState(res_folder=\"../res\")"
      ],
      "outputs": [],
      "execution_count": 5,
      "metadata": {
        "collapsed": false,
        "outputHidden": false,
        "inputHidden": false
      }
    },
    {
      "cell_type": "code",
      "source": [
        "# getting first frame\n",
        "actions = np.zeros(NUM_ACTIONS)\n",
        "actions[0] = 1 # no flap\n",
        "frame, reward, is_terminal = game_state.step(actions)\n",
        "frame_q = transform(frame)"
      ],
      "outputs": [],
      "execution_count": 6,
      "metadata": {
        "collapsed": false,
        "outputHidden": false,
        "inputHidden": false
      }
    },
    {
      "cell_type": "code",
      "source": [
        "frame_q"
      ],
      "outputs": [
        {
          "output_type": "execute_result",
          "execution_count": 9,
          "data": {
            "text/plain": [
              "<PIL.Image.Image image mode=L size=80x80 at 0x15CCB3A22C8>"
            ],
            "image/png": "[encoded data removed]"
          },
          "metadata": {}
        }
      ],
      "execution_count": 9,
      "metadata": {
        "collapsed": false,
        "outputHidden": false,
        "inputHidden": false
      }
    },
    {
      "cell_type": "code",
      "source": [
        "s_t = torch.stack([transforms.ToTensor()(frame_q) for _ in range(4)])\n",
        "s_t.shape"
      ],
      "outputs": [
        {
          "output_type": "execute_result",
          "execution_count": 11,
          "data": {
            "text/plain": [
              "torch.Size([4, 1, 80, 80])"
            ]
          },
          "metadata": {}
        }
      ],
      "execution_count": 11,
      "metadata": {
        "collapsed": false,
        "outputHidden": false,
        "inputHidden": false
      }
    },
    {
      "cell_type": "markdown",
      "source": [
        "## General Steps involved\n",
        "1. set value of $\\epsilon$ to initial value (1)\n",
        "2. $t=0$\n",
        "3. repeat in while loop:\n",
        "4. forward pass network, get `output`\n",
        "5. initialize `action_t` array\n",
        "6. if $t$ % `FRAMES_PER_ACTION` is 0 (e.g. act every 4 frames), then \n",
        "    - if random number < $\\epsilon$, choose random action. else `argmax(output)` as action.\n",
        "7. else, do nothing\n",
        "8. scale down epsilon\n",
        "9. `frame`, `reward_t`, `is_terminal`=step emulator using action\n",
        "10. process `frame`\n",
        "11. append processed `frame` to `s_t` out of place. rename to `s_t1`.\n",
        "12. add $(s_t, action_t, reward_t, s_{t1}, is\\_terminal)$ to replay memory `D`\n",
        "13. check if replay memory length has exceeded max. if it has, pop left.\n",
        "14. do the following steps only if replay memory is populated ($t$ > `OBSERVE`)\n",
        "    - sample a minibatch from `D`, extract values\n",
        "    - `s_j_out` = forward pass `s_t` of all the samples in the batch. It is the rewards of each possible action given the state `s_j`.\n",
        "    - `s_j1_out` = forward pass `s_t1` of all the samples in the batch. It is the rewards of each possible action given the state `s_j1`.\n",
        "    - `optimal` = empty array\n",
        "    - for sample in minibatch\n",
        "        - `optimal[j]` = `reward_j`, if `is_terminal`, else `reward_j` * `GAMMA` + `max(s_j1_out[j])`\n",
        "    - `observed` = `reduce_mean`(`s_j_out` * `a_t`)\n",
        "    - calculate mean squared loss between `optimal` and `observed`\n",
        "    - step optimizer"
      ],
      "metadata": {}
    }
  ],
  "metadata": {
    "kernel_info": {
      "name": "flappybirdai"
    },
    "language_info": {
      "name": "python",
      "version": "3.7.6",
      "mimetype": "text/x-python",
      "codemirror_mode": {
        "name": "ipython",
        "version": 3
      },
      "pygments_lexer": "ipython3",
      "nbconvert_exporter": "python",
      "file_extension": ".py"
    },
    "kernelspec": {
      "name": "flappybirdai",
      "language": "python",
      "display_name": "Python (flappybirdai)"
    },
    "nteract": {
      "version": "0.15.0"
    }
  },
  "nbformat": 4,
  "nbformat_minor": 0
}